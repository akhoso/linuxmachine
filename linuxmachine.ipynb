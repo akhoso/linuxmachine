{
 "cells": [
  {
   "cell_type": "code",
   "execution_count": 1,
   "metadata": {},
   "outputs": [
    {
     "data": {
      "text/plain": [
       "2"
      ]
     },
     "execution_count": 1,
     "metadata": {},
     "output_type": "execute_result"
    }
   ],
   "source": [
    "1+1"
   ]
  },
  {
   "cell_type": "code",
   "execution_count": 4,
   "metadata": {},
   "outputs": [
    {
     "name": "stdout",
     "output_type": "stream",
     "text": [
      "testing\n"
     ]
    }
   ],
   "source": [
    "print('testing')"
   ]
  },
  {
   "cell_type": "code",
   "execution_count": 1,
   "metadata": {},
   "outputs": [
    {
     "name": "stdout",
     "output_type": "stream",
     "text": [
      "Non-Pythonic Approach:  [1, 4, 9, 16, 25]\n",
      "Pythonic Approach:  [1, 4, 9, 16, 25]\n"
     ]
    }
   ],
   "source": [
    "# source https://towardsdatascience.com/3-advanced-python-functions-for-data-scientists-f869016da63a\n",
    "\n",
    "# map()\n",
    "\n",
    "nums = [1, 2, 3, 4, 5]\n",
    "# this function will calculate square\n",
    "def square_num(x): \n",
    "    return x**2\n",
    "# non-pythonic approach\n",
    "squares = []\n",
    "for num in nums:\n",
    "    squares.append(square_num(num))\n",
    " \n",
    "print('Non-Pythonic Approach: ', squares)\n",
    "# pythonic approach\n",
    "x = map(square_num, nums)\n",
    "print('Pythonic Approach: ', list(x))\n"
   ]
  },
  {
   "cell_type": "code",
   "execution_count": 2,
   "metadata": {},
   "outputs": [
    {
     "name": "stdout",
     "output_type": "stream",
     "text": [
      "3\n",
      "5\n",
      "15\n",
      "9\n",
      "17\n"
     ]
    }
   ],
   "source": [
    "# zip()\n",
    "first = [1, 3, 8, 4, 9]\n",
    "second = [2, 2, 7, 5, 8]\n",
    "# Iterate over two or more list at the same time\n",
    "for x, y in zip(first, second):\n",
    "    print(x + y)"
   ]
  },
  {
   "cell_type": "code",
   "execution_count": 3,
   "metadata": {},
   "outputs": [
    {
     "name": "stdout",
     "output_type": "stream",
     "text": [
      "Non-Pythonic Approach:  [2, 4, 6, 8, 10]\n",
      "Pythonic Approach:  [2, 4, 6, 8, 10]\n"
     ]
    }
   ],
   "source": [
    "numbers = [1, 2, 3, 4, 5, 6, 7, 8, 9, 10]\n",
    "# Will return true if input number is even\n",
    "def even(x):\n",
    "    return x % 2 == 0\n",
    "# non-pythonic approach\n",
    "even_nums = []\n",
    "for num in numbers:\n",
    "    if even(num):\n",
    "        even_nums.append(num)\n",
    " \n",
    "print('Non-Pythonic Approach: ', even_nums)\n",
    "# pythonic approach\n",
    "even_n = filter(even, numbers)\n",
    "print('Pythonic Approach: ', list(even_n))"
   ]
  },
  {
   "cell_type": "code",
   "execution_count": null,
   "metadata": {},
   "outputs": [],
   "source": []
  }
 ],
 "metadata": {
  "kernelspec": {
   "display_name": "Python 3",
   "language": "python",
   "name": "python3"
  },
  "language_info": {
   "codemirror_mode": {
    "name": "ipython",
    "version": 3
   },
   "file_extension": ".py",
   "mimetype": "text/x-python",
   "name": "python",
   "nbconvert_exporter": "python",
   "pygments_lexer": "ipython3",
   "version": "3.7.6"
  }
 },
 "nbformat": 4,
 "nbformat_minor": 4
}
